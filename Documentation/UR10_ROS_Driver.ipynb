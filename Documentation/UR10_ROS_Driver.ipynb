{
  "cells": [
    {
      "cell_type": "markdown",
      "metadata": {
        "id": "ElZIphu9bFLj"
      },
      "source": [
        "# Universal Robots ROS Driver\n",
        "\n",
        "\n",
        "\n",
        "\n",
        "\n",
        "\n",
        "\n",
        "\n",
        "\n"
      ]
    },
    {
      "cell_type": "markdown",
      "metadata": {
        "id": "FD1CZkmKujKw"
      },
      "source": [
        "This is a summary documentation for use the Universal Robots ROS Driver for using with the UR10 robot arm. the original documentation can be found [here](https://github.com/UniversalRobots/Universal_Robots_ROS_Driver), check it out if you want to use another type of robot.\n",
        "\n",
        "### Introduction:\n",
        "Universal Robots have become a dominant supplier of lightweight, robotic manipulators for industry, as well as for scientific research and education. The Robot Operating System (ROS) has developed from a community-centered movement to a mature framework and quasi standard, providing a rich set of powerful tools for robot engineers and researchers, working in many different domains."
      ]
    },
    {
      "cell_type": "markdown",
      "metadata": {
        "id": "SA1Vxc1PhdQB"
      },
      "source": [
        "## Requirements:"
      ]
    },
    {
      "cell_type": "markdown",
      "metadata": {
        "id": "sbF6YRA7hQZi"
      },
      "source": [
        "\n",
        "### Software Requirements:\n",
        "To use this driver you will need to have this software installed on your machine.\n",
        "\n",
        "1.- [Ubuntu 20.04](https://releases.ubuntu.com/20.04/).\n",
        "\n",
        "2.- [ROS Noetic full-desktop](http://wiki.ros.org/noetic/Installation/Ubuntu).\n",
        "\n",
        "3.- [Moveit!](https://ros-planning.github.io/moveit_tutorials/doc/getting_started/getting_started.html).\n",
        "\n",
        "### Hardware Requeriment:\n",
        "\n",
        "1.- A computer with ethernet input."
      ]
    },
    {
      "cell_type": "markdown",
      "metadata": {
        "id": "0qv49ZHXhixq"
      },
      "source": [
        "## Building the UR ROS driver\n"
      ]
    },
    {
      "cell_type": "markdown",
      "metadata": {
        "id": "XImvdhRniGfX"
      },
      "source": [
        "Run this command in your terminal to download and compile the driver"
      ]
    },
    {
      "cell_type": "code",
      "execution_count": null,
      "metadata": {
        "id": "a5rpm0SkabdT"
      },
      "outputs": [],
      "source": [
        "# source global ros\n",
        "source /opt/ros/<your_ros_version>/setup.bash\n",
        "\n",
        "# create a catkin workspace\n",
        "mkdir -p catkin_ws/src && cd catkin_ws\n",
        "\n",
        "# clone the driver\n",
        "git clone https://github.com/UniversalRobots/Universal_Robots_ROS_Driver.git src/Universal_Robots_ROS_Driver\n",
        "\n",
        "# clone fork of the description. This is currently necessary, until the changes are merged upstream.\n",
        "git clone -b calibration_devel https://github.com/fmauch/universal_robot.git src/fmauch_universal_robot\n",
        "\n",
        "# install dependencies\n",
        "sudo apt update -qq\n",
        "rosdep update\n",
        "rosdep install --from-paths src --ignore-src -y\n",
        "\n",
        "# build the workspace\n",
        "catkin_make\n",
        "\n",
        "# activate the workspace (ie: source it)\n",
        "source devel/setup.bash"
      ]
    },
    {
      "cell_type": "markdown",
      "metadata": {
        "id": "5roDAMDjjLbq"
      },
      "source": [
        "## Prepare the robot"
      ]
    },
    {
      "cell_type": "markdown",
      "metadata": {
        "id": "tEAKnGNjjOOd"
      },
      "source": [
        "To enable external control of the UR robot from a remote PC you need to install the externalcontrol-1.0.5.urcap which can be downloaded from [Universal_Robots_ExternalControl_URCap](https://github.com/UniversalRobots/Universal_Robots_ExternalControl_URCap/releases).\n",
        "\n",
        "For installing the necessary URCap and creating a program, please see the individual tutorial on how to setup a [CB3 robot](https://github.com/UniversalRobots/Universal_Robots_ROS2_Driver/blob/main/ur_robot_driver/doc/installation/install_urcap_cb3.rst).\n",
        "\n"
      ]
    },
    {
      "cell_type": "markdown",
      "metadata": {
        "id": "3erIkOdHkKs3"
      },
      "source": [
        "## Network Setup"
      ]
    },
    {
      "cell_type": "markdown",
      "metadata": {
        "id": "mP-8Xwe1uXLa"
      },
      "source": [
        "This section describes a good example using static IP addresses and a direct connection from the PC to the Robot to minimize latency introduced by network hardware.\n",
        "\n",
        "1. Connect the UR control box directly to the remote PC with an ethernet cable.\n",
        "2. Open the network settings from the UR teach pendant (Setup Robot -> Network) and enter these settings:\n"
      ]
    },
    {
      "cell_type": "code",
      "execution_count": null,
      "metadata": {
        "id": "0LZpsU7IlnS2"
      },
      "outputs": [],
      "source": [
        "IP address: 192.168.1.102\n",
        "Subnet mask: 255.255.255.0\n",
        "Default gateway: 192.168.1.1\n",
        "Preferred DNS server: 192.168.1.1\n",
        "Alternative DNS server: 0.0.0.0"
      ]
    },
    {
      "cell_type": "markdown",
      "metadata": {
        "id": "aWLzZea3lrf0"
      },
      "source": [
        "\n",
        "\n",
        "3. On the remote PC, turn off all network devices except the \"wired connection\", e.g. turn off wifi.\n",
        "\n",
        "4. Open Network Settings and create a new Wired connection with these settings. You may want to name this new connection UR or something similar:\n"
      ]
    },
    {
      "cell_type": "code",
      "execution_count": null,
      "metadata": {
        "id": "u27ipifvl4iV"
      },
      "outputs": [],
      "source": [
        "IPv4\n",
        "Manual\n",
        "Address: 192.168.1.101\n",
        "Netmask: 255.255.255.0\n",
        "Gateway: 192.168.1.1"
      ]
    },
    {
      "cell_type": "markdown",
      "metadata": {
        "id": "DMAUvf2bl-Ma"
      },
      "source": [
        "\n",
        "  5. Verify the connection from the PC with e.g. ping."
      ]
    },
    {
      "cell_type": "code",
      "execution_count": null,
      "metadata": {
        "id": "UT3kwKAAl9Gr"
      },
      "outputs": [],
      "source": [
        "ping 192.168.1.102"
      ]
    },
    {
      "cell_type": "markdown",
      "metadata": {
        "id": "Dp5e6Go4mSWo"
      },
      "source": [
        "## Usage the driver"
      ]
    },
    {
      "cell_type": "markdown",
      "metadata": {
        "id": "mJ-FvdqTuPdE"
      },
      "source": [
        "1. From the Program Robot tab of the PolyScope, load \"external_contro.urp\". Click on the \"Control by...\" section of the program to check the Host IP of the external PC. If it needs to be modified, make the modification under the Installation tab (as prompted on screen). You do not need to modify the Custom Port. Also disable the EtherNet/IP and the PORFINET IO.\n",
        "\n",
        "2. On your computer, use this command to grant access to the Host port. Is have to be the same as robot's Custom Port.\n"
      ]
    },
    {
      "cell_type": "code",
      "execution_count": null,
      "metadata": {
        "id": "TnEyZZQBom1Q"
      },
      "outputs": [],
      "source": [
        "sudo ufw allow <port>"
      ]
    },
    {
      "cell_type": "markdown",
      "metadata": {
        "id": "NofyOAzmpAIk"
      },
      "source": [
        "3. Extract calibration information. "
      ]
    },
    {
      "cell_type": "code",
      "execution_count": null,
      "metadata": {
        "id": "DFOrzWBQpig6"
      },
      "outputs": [],
      "source": [
        " roslaunch ur_calibration calibration_correction.launch robot_ip:=192.168.1.102 target_filename:=\"${HOME}/my_robot_calibration.yaml\""
      ]
    },
    {
      "cell_type": "markdown",
      "metadata": {
        "id": "0OWB2IaEpipF"
      },
      "source": [
        "(Though this step is not necessary to control the robot using this driver, it is highly recommended to do so, as otherwise endeffector positions might be off in the magnitude of centimeters.)\n",
        "\n",
        "4.  Start the robot driver by running this launch file in your terminal:"
      ]
    },
    {
      "cell_type": "code",
      "execution_count": null,
      "metadata": {
        "id": "dEDbIGgwqF_d"
      },
      "outputs": [],
      "source": [
        "roslaunch ur_robot_driver ur10_bringup.launch robot_ip:=192.168.1.102 kinematics_config:=\"${HOME}/my_robot_calibration.yaml\" "
      ]
    },
    {
      "cell_type": "markdown",
      "metadata": {
        "id": "kf0uAEXfqea1"
      },
      "source": [
        "If you haven't calibrated your robot before use"
      ]
    },
    {
      "cell_type": "code",
      "execution_count": null,
      "metadata": {
        "id": "9AlQpl3GqoKs"
      },
      "outputs": [],
      "source": [
        "roslaunch ur_robot_driver ur10_bringup.launch robot_ip:=192.168.1.102 "
      ]
    },
    {
      "cell_type": "markdown",
      "metadata": {
        "id": "EvlH7bpTqwLu"
      },
      "source": [
        "5. From the Program Robot tab of the PolyScope, click the play button to connect with the external PC. You should see this next message in your driver's terminal:"
      ]
    },
    {
      "cell_type": "code",
      "execution_count": null,
      "metadata": {
        "id": "mRlYaB_otNEO"
      },
      "outputs": [],
      "source": [
        "Robot requested program\n",
        "Sent program to robot\n",
        "Robot connected to reverse interface. Ready to receive control commands."
      ]
    },
    {
      "cell_type": "markdown",
      "metadata": {
        "id": "xRvDYjOQsxaL"
      },
      "source": [
        "6. (Optional)  Open up an RViz window showing the robot. In another terminal, run:"
      ]
    },
    {
      "cell_type": "code",
      "execution_count": null,
      "metadata": {
        "id": "uQ97WUcYsYX1"
      },
      "outputs": [],
      "source": [
        "roslaunch ur_robot_driver example_rviz.launch"
      ]
    },
    {
      "cell_type": "markdown",
      "metadata": {
        "id": "pBN128wxst-8"
      },
      "source": [
        "Try moving around the robot's joints using the teach panel and watch how it also moves inside ROS.\n",
        "\n",
        "7. (Optional) Control the robot using the test_move script. In a third terminal run:"
      ]
    },
    {
      "cell_type": "code",
      "execution_count": null,
      "metadata": {
        "id": "OhBnksLutVe1"
      },
      "outputs": [],
      "source": [
        "rosrun ur_robot_driver test_move"
      ]
    },
    {
      "cell_type": "markdown",
      "metadata": {
        "id": "gaA3d7p_sYse"
      },
      "source": [
        "## Control the robot using Moveit!"
      ]
    },
    {
      "cell_type": "markdown",
      "metadata": {
        "id": "LGn8LTKbtn3z"
      },
      "source": [
        "For controlling the robot using MoveIt! start the following four launch files (Each in a separate terminal window):"
      ]
    },
    {
      "cell_type": "code",
      "execution_count": null,
      "metadata": {
        "id": "FHBmf-vrtr4Z"
      },
      "outputs": [],
      "source": [
        "roslaunch ur_calibration calibration_correction.launch robot_ip:=192.168.1.102 target_filename:=\"${HOME}/my_robot_calibration.yaml\""
      ]
    },
    {
      "cell_type": "code",
      "execution_count": null,
      "metadata": {
        "id": "YJMRNX2WUagI"
      },
      "outputs": [],
      "source": [
        "roslaunch ur_robot_driver ur10_bringup.launch robot_ip:=192.168.1.102 kinematics_config:=\"${HOME}/my_robot_calibration.yaml\" "
      ]
    },
    {
      "cell_type": "code",
      "execution_count": null,
      "metadata": {
        "id": "fPS0-FsttxDN"
      },
      "outputs": [],
      "source": [
        "roslaunch ur10_moveit_config ur10_moveit_planning_execution.launch"
      ]
    },
    {
      "cell_type": "code",
      "execution_count": null,
      "metadata": {
        "id": "jtFjV-RYt2qT"
      },
      "outputs": [],
      "source": [
        "roslaunch ur10_moveit_config moveit_rviz.launch rviz_config:=$(rospack find ur10_moveit_config)/launch/moveit.rviz"
      ]
    },
    {
      "cell_type": "markdown",
      "metadata": {},
      "source": [
        "You can check out everything you can do with this driver [here](https://github.com/UniversalRobots/Universal_Robots_ROS_Driver/blob/master/ur_robot_driver/doc/ROS_INTERFACE.md)"
      ]
    },
    {
      "cell_type": "markdown",
      "metadata": {
        "id": "Os-4dbbTiTAw"
      },
      "source": [
        "## VGC10/VG10 Controller"
      ]
    },
    {
      "cell_type": "markdown",
      "metadata": {
        "id": "2gXTNLPsjdep"
      },
      "source": [
        "To use the basic manual features, the following must be observed:\n",
        "1. The tool analog input range must be set to voltage [0-10V].\n",
        "2. The tool voltage must be set to 24V\n",
        "3. Reset the VG10 by turning the tool voltage off (0V) and then on again (24V)."
      ]
    },
    {
      "cell_type": "markdown",
      "metadata": {
        "id": "opasJ_HMkLav"
      },
      "source": [
        "For controlling the VG10/C10 start the following four launch files (Each in a separate terminal window):"
      ]
    },
    {
      "cell_type": "code",
      "execution_count": null,
      "metadata": {
        "id": "mf10HJuFifzV"
      },
      "outputs": [],
      "source": [
        "roslaunch ur_calibration calibration_correction.launch robot_ip:=192.168.1.102 target_filename:=\"${HOME}/my_robot_calibration.yaml\""
      ]
    },
    {
      "cell_type": "code",
      "execution_count": null,
      "metadata": {
        "id": "ufmLBojGj4GF"
      },
      "outputs": [],
      "source": [
        "roslaunch ur_robot_driver ur10_bringup.launch robot_ip:=192.168.1.102 kinematics_config:=\"${HOME}/my_robot_calibration.yaml\" "
      ]
    },
    {
      "cell_type": "code",
      "execution_count": null,
      "metadata": {
        "id": "M5lB2yjOkngL"
      },
      "outputs": [],
      "source": [
        "rosrun sdriver_vg vg_controller.py"
      ]
    },
    {
      "cell_type": "code",
      "execution_count": null,
      "metadata": {
        "id": "Suav9vp2k_HT"
      },
      "outputs": [],
      "source": [
        "rqt"
      ]
    },
    {
      "cell_type": "markdown",
      "metadata": {
        "id": "HVP_Rp_Ak856"
      },
      "source": [
        "inside rqt GUI, go to plugin > configuration > dynamic reconfiguration, here you will be available to configure ON of setup on any VG channel.\n",
        "\n",
        "You can find more information about VGC10/VG10 in this [link](https://www.i2r.dk/wp-content/uploads/Onrobot_VG10_Vacuun_Gripper_User_Manual_V1.1.1_0.pdf)"
      ]
    }
  ],
  "metadata": {
    "colab": {
      "collapsed_sections": [
        "SA1Vxc1PhdQB",
        "0qv49ZHXhixq",
        "5roDAMDjjLbq",
        "3erIkOdHkKs3",
        "Dp5e6Go4mSWo"
      ],
      "name": "UR10_ROS_Driver.ipynb",
      "provenance": []
    },
    "kernelspec": {
      "display_name": "Python 3",
      "name": "python3"
    },
    "language_info": {
      "name": "python"
    }
  },
  "nbformat": 4,
  "nbformat_minor": 0
}
